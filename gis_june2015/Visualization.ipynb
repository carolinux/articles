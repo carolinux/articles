{
 "cells": [
  {
   "cell_type": "code",
   "execution_count": 4,
   "metadata": {
    "collapsed": true
   },
   "outputs": [],
   "source": [
    "def infer_duration_in_seconds(duration_description):\n",
    "    text = str(duration_description).lower()\n",
    "    #\"1s 2+ secs 3h 3 hours about 4 mins\"\n",
    "    \n",
    "    for metric, secs in zip([\"second\", \"s\",\"segundo\",\"minute\",\"m\",\"min\",\"hour\",  \"h\"],\n",
    "                           [       1,   1,        1,      60, 60,   60,  3600, 3600]):\n",
    "        regex = \"\\s*(\\d+)\\+?\\s*{}s?\".format(metric)\n",
    "        # this regular expression will find the following bit of text\n",
    "        # space followed by a number (\\d) followed optionally by a + and then optionally by a space\n",
    "        # and then the metric (with optional s at the end for plural)\n",
    "        # this covers a lot of cases\n",
    "        # 34m\n",
    "        # 3+ hs\n",
    "        # three minutes\n",
    "        # 5-10 minute -> 10 minutes -> 7.5\n",
    "        res = re.findall(regex,text)\n",
    "        if len(res)>0:\n",
    "            return int(float(res[0]) * secs)\n",
    "    return None"
   ]
  },
  {
   "cell_type": "code",
   "execution_count": 7,
   "metadata": {
    "collapsed": false
   },
   "outputs": [
    {
     "data": {
      "text/html": [
       "<div>\n",
       "<table border=\"1\" class=\"dataframe\">\n",
       "  <thead>\n",
       "    <tr style=\"text-align: right;\">\n",
       "      <th></th>\n",
       "      <th>datestr</th>\n",
       "      <th>city</th>\n",
       "      <th>state</th>\n",
       "      <th>shape</th>\n",
       "      <th>duration_description</th>\n",
       "      <th>start_dt</th>\n",
       "      <th>duration_secs</th>\n",
       "      <th>end_dt</th>\n",
       "      <th>location_name</th>\n",
       "      <th>lon</th>\n",
       "      <th>lat</th>\n",
       "    </tr>\n",
       "  </thead>\n",
       "  <tbody>\n",
       "    <tr>\n",
       "      <th>0</th>\n",
       "      <td>3/16/17 23:30</td>\n",
       "      <td>Ruso</td>\n",
       "      <td>ND</td>\n",
       "      <td>light</td>\n",
       "      <td>30 seconds</td>\n",
       "      <td>2017-03-16 23:30:00</td>\n",
       "      <td>30.0</td>\n",
       "      <td>2017-03-16 23:30:30</td>\n",
       "      <td>ND Ruso</td>\n",
       "      <td>-100.933481</td>\n",
       "      <td>47.838337</td>\n",
       "    </tr>\n",
       "    <tr>\n",
       "      <th>1</th>\n",
       "      <td>3/16/17 21:41</td>\n",
       "      <td>Salem</td>\n",
       "      <td>OR</td>\n",
       "      <td>flash</td>\n",
       "      <td>3 seconds</td>\n",
       "      <td>2017-03-16 21:41:00</td>\n",
       "      <td>3.0</td>\n",
       "      <td>2017-03-16 21:41:03</td>\n",
       "      <td>OR Salem</td>\n",
       "      <td>-123.035096</td>\n",
       "      <td>44.942898</td>\n",
       "    </tr>\n",
       "    <tr>\n",
       "      <th>2</th>\n",
       "      <td>3/16/17 21:00</td>\n",
       "      <td>Auburn</td>\n",
       "      <td>WA</td>\n",
       "      <td>light</td>\n",
       "      <td>10 minutes</td>\n",
       "      <td>2017-03-16 21:00:00</td>\n",
       "      <td>600.0</td>\n",
       "      <td>2017-03-16 21:10:00</td>\n",
       "      <td>WA Auburn</td>\n",
       "      <td>-122.228453</td>\n",
       "      <td>47.307323</td>\n",
       "    </tr>\n",
       "    <tr>\n",
       "      <th>3</th>\n",
       "      <td>3/16/17 20:12</td>\n",
       "      <td>Tempe</td>\n",
       "      <td>AZ</td>\n",
       "      <td>other</td>\n",
       "      <td>50 minutes</td>\n",
       "      <td>2017-03-16 20:12:00</td>\n",
       "      <td>3000.0</td>\n",
       "      <td>2017-03-16 21:02:00</td>\n",
       "      <td>AZ Tempe</td>\n",
       "      <td>-111.940005</td>\n",
       "      <td>33.425510</td>\n",
       "    </tr>\n",
       "    <tr>\n",
       "      <th>4</th>\n",
       "      <td>3/16/17 19:35</td>\n",
       "      <td>Chandler</td>\n",
       "      <td>AZ</td>\n",
       "      <td>triangle</td>\n",
       "      <td>1 minute</td>\n",
       "      <td>2017-03-16 19:35:00</td>\n",
       "      <td>60.0</td>\n",
       "      <td>2017-03-16 19:36:00</td>\n",
       "      <td>AZ Chandler</td>\n",
       "      <td>-111.841250</td>\n",
       "      <td>33.306160</td>\n",
       "    </tr>\n",
       "  </tbody>\n",
       "</table>\n",
       "</div>"
      ],
      "text/plain": [
       "         datestr      city state     shape duration_description  \\\n",
       "0  3/16/17 23:30      Ruso    ND     light           30 seconds   \n",
       "1  3/16/17 21:41     Salem    OR     flash            3 seconds   \n",
       "2  3/16/17 21:00    Auburn    WA     light           10 minutes   \n",
       "3  3/16/17 20:12     Tempe    AZ     other           50 minutes   \n",
       "4  3/16/17 19:35  Chandler    AZ  triangle             1 minute   \n",
       "\n",
       "             start_dt  duration_secs              end_dt location_name  \\\n",
       "0 2017-03-16 23:30:00           30.0 2017-03-16 23:30:30       ND Ruso   \n",
       "1 2017-03-16 21:41:00            3.0 2017-03-16 21:41:03      OR Salem   \n",
       "2 2017-03-16 21:00:00          600.0 2017-03-16 21:10:00     WA Auburn   \n",
       "3 2017-03-16 20:12:00         3000.0 2017-03-16 21:02:00      AZ Tempe   \n",
       "4 2017-03-16 19:35:00           60.0 2017-03-16 19:36:00   AZ Chandler   \n",
       "\n",
       "          lon        lat  \n",
       "0 -100.933481  47.838337  \n",
       "1 -123.035096  44.942898  \n",
       "2 -122.228453  47.307323  \n",
       "3 -111.940005  33.425510  \n",
       "4 -111.841250  33.306160  "
      ]
     },
     "execution_count": 7,
     "metadata": {},
     "output_type": "execute_result"
    }
   ],
   "source": [
    "from matplotlib import pyplot as plt\n",
    "# seaborn - uses matplotlib internally - seaborn also is designed to work with pandas dataframes very easily\n",
    "# bokeh - javascript and python - afaik it has its own engine\n",
    "\n",
    "import pandas as pd\n",
    "import numpy as np\n",
    "\n",
    "df = pd.read_csv(\"processed.csv\", parse_dates=[\"start_dt\",\"end_dt\"])\n",
    "df = df[df.columns[1:]]\n",
    "df.head()"
   ]
  },
  {
   "cell_type": "code",
   "execution_count": 13,
   "metadata": {
    "collapsed": false
   },
   "outputs": [
    {
     "data": {
      "text/html": [
       "<div>\n",
       "<table border=\"1\" class=\"dataframe\">\n",
       "  <thead>\n",
       "    <tr style=\"text-align: right;\">\n",
       "      <th></th>\n",
       "      <th>datestr</th>\n",
       "      <th>city</th>\n",
       "      <th>state</th>\n",
       "      <th>shape</th>\n",
       "      <th>duration_description</th>\n",
       "      <th>start_dt</th>\n",
       "      <th>duration_secs</th>\n",
       "      <th>end_dt</th>\n",
       "      <th>location_name</th>\n",
       "      <th>lon</th>\n",
       "      <th>lat</th>\n",
       "      <th>hour_of_day</th>\n",
       "    </tr>\n",
       "  </thead>\n",
       "  <tbody>\n",
       "    <tr>\n",
       "      <th>0</th>\n",
       "      <td>3/16/17 23:30</td>\n",
       "      <td>Ruso</td>\n",
       "      <td>ND</td>\n",
       "      <td>light</td>\n",
       "      <td>30 seconds</td>\n",
       "      <td>2017-03-16 23:30:00</td>\n",
       "      <td>30.0</td>\n",
       "      <td>2017-03-16 23:30:30</td>\n",
       "      <td>ND Ruso</td>\n",
       "      <td>-100.933481</td>\n",
       "      <td>47.838337</td>\n",
       "      <td>23</td>\n",
       "    </tr>\n",
       "    <tr>\n",
       "      <th>1</th>\n",
       "      <td>3/16/17 21:41</td>\n",
       "      <td>Salem</td>\n",
       "      <td>OR</td>\n",
       "      <td>flash</td>\n",
       "      <td>3 seconds</td>\n",
       "      <td>2017-03-16 21:41:00</td>\n",
       "      <td>3.0</td>\n",
       "      <td>2017-03-16 21:41:03</td>\n",
       "      <td>OR Salem</td>\n",
       "      <td>-123.035096</td>\n",
       "      <td>44.942898</td>\n",
       "      <td>21</td>\n",
       "    </tr>\n",
       "    <tr>\n",
       "      <th>2</th>\n",
       "      <td>3/16/17 21:00</td>\n",
       "      <td>Auburn</td>\n",
       "      <td>WA</td>\n",
       "      <td>light</td>\n",
       "      <td>10 minutes</td>\n",
       "      <td>2017-03-16 21:00:00</td>\n",
       "      <td>600.0</td>\n",
       "      <td>2017-03-16 21:10:00</td>\n",
       "      <td>WA Auburn</td>\n",
       "      <td>-122.228453</td>\n",
       "      <td>47.307323</td>\n",
       "      <td>21</td>\n",
       "    </tr>\n",
       "    <tr>\n",
       "      <th>3</th>\n",
       "      <td>3/16/17 20:12</td>\n",
       "      <td>Tempe</td>\n",
       "      <td>AZ</td>\n",
       "      <td>other</td>\n",
       "      <td>50 minutes</td>\n",
       "      <td>2017-03-16 20:12:00</td>\n",
       "      <td>3000.0</td>\n",
       "      <td>2017-03-16 21:02:00</td>\n",
       "      <td>AZ Tempe</td>\n",
       "      <td>-111.940005</td>\n",
       "      <td>33.425510</td>\n",
       "      <td>20</td>\n",
       "    </tr>\n",
       "    <tr>\n",
       "      <th>4</th>\n",
       "      <td>3/16/17 19:35</td>\n",
       "      <td>Chandler</td>\n",
       "      <td>AZ</td>\n",
       "      <td>triangle</td>\n",
       "      <td>1 minute</td>\n",
       "      <td>2017-03-16 19:35:00</td>\n",
       "      <td>60.0</td>\n",
       "      <td>2017-03-16 19:36:00</td>\n",
       "      <td>AZ Chandler</td>\n",
       "      <td>-111.841250</td>\n",
       "      <td>33.306160</td>\n",
       "      <td>19</td>\n",
       "    </tr>\n",
       "  </tbody>\n",
       "</table>\n",
       "</div>"
      ],
      "text/plain": [
       "         datestr      city state     shape duration_description  \\\n",
       "0  3/16/17 23:30      Ruso    ND     light           30 seconds   \n",
       "1  3/16/17 21:41     Salem    OR     flash            3 seconds   \n",
       "2  3/16/17 21:00    Auburn    WA     light           10 minutes   \n",
       "3  3/16/17 20:12     Tempe    AZ     other           50 minutes   \n",
       "4  3/16/17 19:35  Chandler    AZ  triangle             1 minute   \n",
       "\n",
       "             start_dt  duration_secs              end_dt location_name  \\\n",
       "0 2017-03-16 23:30:00           30.0 2017-03-16 23:30:30       ND Ruso   \n",
       "1 2017-03-16 21:41:00            3.0 2017-03-16 21:41:03      OR Salem   \n",
       "2 2017-03-16 21:00:00          600.0 2017-03-16 21:10:00     WA Auburn   \n",
       "3 2017-03-16 20:12:00         3000.0 2017-03-16 21:02:00      AZ Tempe   \n",
       "4 2017-03-16 19:35:00           60.0 2017-03-16 19:36:00   AZ Chandler   \n",
       "\n",
       "          lon        lat  hour_of_day  \n",
       "0 -100.933481  47.838337           23  \n",
       "1 -123.035096  44.942898           21  \n",
       "2 -122.228453  47.307323           21  \n",
       "3 -111.940005  33.425510           20  \n",
       "4 -111.841250  33.306160           19  "
      ]
     },
     "execution_count": 13,
     "metadata": {},
     "output_type": "execute_result"
    }
   ],
   "source": [
    "df[\"hour_of_day\"] = df[\"start_dt\"].apply(lambda x: x.hour)\n",
    "df.head()"
   ]
  },
  {
   "cell_type": "code",
   "execution_count": 21,
   "metadata": {
    "collapsed": false
   },
   "outputs": [
    {
     "data": {
      "image/png": "[encoded data removed]",
      "text/plain": [
       "<matplotlib.figure.Figure at 0x7fde61762e10>"
      ]
     },
     "metadata": {},
     "output_type": "display_data"
    }
   ],
   "source": [
    "# get the counts by hour of day\n",
    "counts_by_hour_of_day = df[\"hour_of_day\"].value_counts().sort_index()\n",
    "\n",
    "plt.plot(counts_by_hour_of_day.index, counts_by_hour_of_day.values)\n",
    "plt.grid()\n",
    "plt.title(\"UFO sightings by hour of day\")\n",
    "plt.show()\n"
   ]
  },
  {
   "cell_type": "code",
   "execution_count": 24,
   "metadata": {
    "collapsed": true
   },
   "outputs": [],
   "source": [
    "df[\"month\"] =  df[\"start_dt\"].apply(lambda x: x.month)\n",
    "\n",
    "def determine_season(month):\n",
    "    if month in [12,1,2]:\n",
    "        return \"winter\"\n",
    "    if month in [3,4,5]:\n",
    "        return \"spring\"\n",
    "    if month in [6,7,8]:\n",
    "        return \"summer\"\n",
    "    return \"autumn\"\n"
   ]
  },
  {
   "cell_type": "code",
   "execution_count": 25,
   "metadata": {
    "collapsed": false
   },
   "outputs": [
    {
     "data": {
      "text/html": [
       "<div>\n",
       "<table border=\"1\" class=\"dataframe\">\n",
       "  <thead>\n",
       "    <tr style=\"text-align: right;\">\n",
       "      <th></th>\n",
       "      <th>datestr</th>\n",
       "      <th>city</th>\n",
       "      <th>state</th>\n",
       "      <th>shape</th>\n",
       "      <th>duration_description</th>\n",
       "      <th>start_dt</th>\n",
       "      <th>duration_secs</th>\n",
       "      <th>end_dt</th>\n",
       "      <th>location_name</th>\n",
       "      <th>lon</th>\n",
       "      <th>lat</th>\n",
       "      <th>hour_of_day</th>\n",
       "      <th>month</th>\n",
       "      <th>season</th>\n",
       "    </tr>\n",
       "  </thead>\n",
       "  <tbody>\n",
       "    <tr>\n",
       "      <th>0</th>\n",
       "      <td>3/16/17 23:30</td>\n",
       "      <td>Ruso</td>\n",
       "      <td>ND</td>\n",
       "      <td>light</td>\n",
       "      <td>30 seconds</td>\n",
       "      <td>2017-03-16 23:30:00</td>\n",
       "      <td>30.0</td>\n",
       "      <td>2017-03-16 23:30:30</td>\n",
       "      <td>ND Ruso</td>\n",
       "      <td>-100.933481</td>\n",
       "      <td>47.838337</td>\n",
       "      <td>23</td>\n",
       "      <td>3</td>\n",
       "      <td>spring</td>\n",
       "    </tr>\n",
       "    <tr>\n",
       "      <th>1</th>\n",
       "      <td>3/16/17 21:41</td>\n",
       "      <td>Salem</td>\n",
       "      <td>OR</td>\n",
       "      <td>flash</td>\n",
       "      <td>3 seconds</td>\n",
       "      <td>2017-03-16 21:41:00</td>\n",
       "      <td>3.0</td>\n",
       "      <td>2017-03-16 21:41:03</td>\n",
       "      <td>OR Salem</td>\n",
       "      <td>-123.035096</td>\n",
       "      <td>44.942898</td>\n",
       "      <td>21</td>\n",
       "      <td>3</td>\n",
       "      <td>spring</td>\n",
       "    </tr>\n",
       "    <tr>\n",
       "      <th>2</th>\n",
       "      <td>3/16/17 21:00</td>\n",
       "      <td>Auburn</td>\n",
       "      <td>WA</td>\n",
       "      <td>light</td>\n",
       "      <td>10 minutes</td>\n",
       "      <td>2017-03-16 21:00:00</td>\n",
       "      <td>600.0</td>\n",
       "      <td>2017-03-16 21:10:00</td>\n",
       "      <td>WA Auburn</td>\n",
       "      <td>-122.228453</td>\n",
       "      <td>47.307323</td>\n",
       "      <td>21</td>\n",
       "      <td>3</td>\n",
       "      <td>spring</td>\n",
       "    </tr>\n",
       "    <tr>\n",
       "      <th>3</th>\n",
       "      <td>3/16/17 20:12</td>\n",
       "      <td>Tempe</td>\n",
       "      <td>AZ</td>\n",
       "      <td>other</td>\n",
       "      <td>50 minutes</td>\n",
       "      <td>2017-03-16 20:12:00</td>\n",
       "      <td>3000.0</td>\n",
       "      <td>2017-03-16 21:02:00</td>\n",
       "      <td>AZ Tempe</td>\n",
       "      <td>-111.940005</td>\n",
       "      <td>33.425510</td>\n",
       "      <td>20</td>\n",
       "      <td>3</td>\n",
       "      <td>spring</td>\n",
       "    </tr>\n",
       "    <tr>\n",
       "      <th>4</th>\n",
       "      <td>3/16/17 19:35</td>\n",
       "      <td>Chandler</td>\n",
       "      <td>AZ</td>\n",
       "      <td>triangle</td>\n",
       "      <td>1 minute</td>\n",
       "      <td>2017-03-16 19:35:00</td>\n",
       "      <td>60.0</td>\n",
       "      <td>2017-03-16 19:36:00</td>\n",
       "      <td>AZ Chandler</td>\n",
       "      <td>-111.841250</td>\n",
       "      <td>33.306160</td>\n",
       "      <td>19</td>\n",
       "      <td>3</td>\n",
       "      <td>spring</td>\n",
       "    </tr>\n",
       "  </tbody>\n",
       "</table>\n",
       "</div>"
      ],
      "text/plain": [
       "         datestr      city state     shape duration_description  \\\n",
       "0  3/16/17 23:30      Ruso    ND     light           30 seconds   \n",
       "1  3/16/17 21:41     Salem    OR     flash            3 seconds   \n",
       "2  3/16/17 21:00    Auburn    WA     light           10 minutes   \n",
       "3  3/16/17 20:12     Tempe    AZ     other           50 minutes   \n",
       "4  3/16/17 19:35  Chandler    AZ  triangle             1 minute   \n",
       "\n",
       "             start_dt  duration_secs              end_dt location_name  \\\n",
       "0 2017-03-16 23:30:00           30.0 2017-03-16 23:30:30       ND Ruso   \n",
       "1 2017-03-16 21:41:00            3.0 2017-03-16 21:41:03      OR Salem   \n",
       "2 2017-03-16 21:00:00          600.0 2017-03-16 21:10:00     WA Auburn   \n",
       "3 2017-03-16 20:12:00         3000.0 2017-03-16 21:02:00      AZ Tempe   \n",
       "4 2017-03-16 19:35:00           60.0 2017-03-16 19:36:00   AZ Chandler   \n",
       "\n",
       "          lon        lat  hour_of_day  month  season  \n",
       "0 -100.933481  47.838337           23      3  spring  \n",
       "1 -123.035096  44.942898           21      3  spring  \n",
       "2 -122.228453  47.307323           21      3  spring  \n",
       "3 -111.940005  33.425510           20      3  spring  \n",
       "4 -111.841250  33.306160           19      3  spring  "
      ]
     },
     "execution_count": 25,
     "metadata": {},
     "output_type": "execute_result"
    }
   ],
   "source": [
    "df[\"season\"] = df[\"month\"].apply(determine_season)\n",
    "df.head()"
   ]
  },
  {
   "cell_type": "code",
   "execution_count": 30,
   "metadata": {
    "collapsed": false
   },
   "outputs": [
    {
     "name": "stdout",
     "output_type": "stream",
     "text": [
      "3341\n",
      "411\n"
     ]
    },
    {
     "ename": "ValueError",
     "evalue": "Item wrong length 3 instead of 3341.",
     "output_type": "error",
     "traceback": [
      "\u001b[0;31m---------------------------------------------------------------------------\u001b[0m",
      "\u001b[0;31mValueError\u001b[0m                                Traceback (most recent call last)",
      "\u001b[0;32m<ipython-input-30-3185e7994b70>\u001b[0m in \u001b[0;36m<module>\u001b[0;34m()\u001b[0m\n\u001b[1;32m      9\u001b[0m \u001b[0;34m\u001b[0m\u001b[0m\n\u001b[1;32m     10\u001b[0m \u001b[0;34m\u001b[0m\u001b[0m\n\u001b[0;32m---> 11\u001b[0;31m \u001b[0mdf\u001b[0m\u001b[0;34m[\u001b[0m \u001b[0;34m[\u001b[0m\u001b[0mTrue\u001b[0m\u001b[0;34m,\u001b[0m \u001b[0mFalse\u001b[0m\u001b[0;34m,\u001b[0m \u001b[0mTrue\u001b[0m\u001b[0;34m]\u001b[0m \u001b[0;34m]\u001b[0m\u001b[0;34m\u001b[0m\u001b[0m\n\u001b[0m",
      "\u001b[0;32m/usr/local/lib/python2.7/dist-packages/pandas/core/frame.pyc\u001b[0m in \u001b[0;36m__getitem__\u001b[0;34m(self, key)\u001b[0m\n\u001b[1;32m   1984\u001b[0m         \u001b[0;32mif\u001b[0m \u001b[0misinstance\u001b[0m\u001b[0;34m(\u001b[0m\u001b[0mkey\u001b[0m\u001b[0;34m,\u001b[0m \u001b[0;34m(\u001b[0m\u001b[0mSeries\u001b[0m\u001b[0;34m,\u001b[0m \u001b[0mnp\u001b[0m\u001b[0;34m.\u001b[0m\u001b[0mndarray\u001b[0m\u001b[0;34m,\u001b[0m \u001b[0mIndex\u001b[0m\u001b[0;34m,\u001b[0m \u001b[0mlist\u001b[0m\u001b[0;34m)\u001b[0m\u001b[0;34m)\u001b[0m\u001b[0;34m:\u001b[0m\u001b[0;34m\u001b[0m\u001b[0m\n\u001b[1;32m   1985\u001b[0m             \u001b[0;31m# either boolean or fancy integer index\u001b[0m\u001b[0;34m\u001b[0m\u001b[0;34m\u001b[0m\u001b[0m\n\u001b[0;32m-> 1986\u001b[0;31m             \u001b[0;32mreturn\u001b[0m \u001b[0mself\u001b[0m\u001b[0;34m.\u001b[0m\u001b[0m_getitem_array\u001b[0m\u001b[0;34m(\u001b[0m\u001b[0mkey\u001b[0m\u001b[0;34m)\u001b[0m\u001b[0;34m\u001b[0m\u001b[0m\n\u001b[0m\u001b[1;32m   1987\u001b[0m         \u001b[0;32melif\u001b[0m \u001b[0misinstance\u001b[0m\u001b[0;34m(\u001b[0m\u001b[0mkey\u001b[0m\u001b[0;34m,\u001b[0m \u001b[0mDataFrame\u001b[0m\u001b[0;34m)\u001b[0m\u001b[0;34m:\u001b[0m\u001b[0;34m\u001b[0m\u001b[0m\n\u001b[1;32m   1988\u001b[0m             \u001b[0;32mreturn\u001b[0m \u001b[0mself\u001b[0m\u001b[0;34m.\u001b[0m\u001b[0m_getitem_frame\u001b[0m\u001b[0;34m(\u001b[0m\u001b[0mkey\u001b[0m\u001b[0;34m)\u001b[0m\u001b[0;34m\u001b[0m\u001b[0m\n",
      "\u001b[0;32m/usr/local/lib/python2.7/dist-packages/pandas/core/frame.pyc\u001b[0m in \u001b[0;36m_getitem_array\u001b[0;34m(self, key)\u001b[0m\n\u001b[1;32m   2021\u001b[0m             \u001b[0;32melif\u001b[0m \u001b[0mlen\u001b[0m\u001b[0;34m(\u001b[0m\u001b[0mkey\u001b[0m\u001b[0;34m)\u001b[0m \u001b[0;34m!=\u001b[0m \u001b[0mlen\u001b[0m\u001b[0;34m(\u001b[0m\u001b[0mself\u001b[0m\u001b[0;34m.\u001b[0m\u001b[0mindex\u001b[0m\u001b[0;34m)\u001b[0m\u001b[0;34m:\u001b[0m\u001b[0;34m\u001b[0m\u001b[0m\n\u001b[1;32m   2022\u001b[0m                 raise ValueError('Item wrong length %d instead of %d.' %\n\u001b[0;32m-> 2023\u001b[0;31m                                  (len(key), len(self.index)))\n\u001b[0m\u001b[1;32m   2024\u001b[0m             \u001b[0;31m# check_bool_indexer will throw exception if Series key cannot\u001b[0m\u001b[0;34m\u001b[0m\u001b[0;34m\u001b[0m\u001b[0m\n\u001b[1;32m   2025\u001b[0m             \u001b[0;31m# be reindexed to match DataFrame rows\u001b[0m\u001b[0;34m\u001b[0m\u001b[0;34m\u001b[0m\u001b[0m\n",
      "\u001b[0;31mValueError\u001b[0m: Item wrong length 3 instead of 3341."
     ]
    }
   ],
   "source": [
    "spring = df[df[\"season\"] == \"spring\"]\n",
    "\n",
    "\n",
    "boolean_series = df[\"season\"] == \"spring\"\n",
    "\n",
    "df[boolean_series] # this keeps only the parts of the dataframe for which the value of the boolean series is True\n",
    "print len(df)\n",
    "print len(spring)\n",
    "\n",
    "#why use a boolean index???\n",
    "# a boolean index can be a list or a series\n",
    "# for performance\n",
    "#df[ [True, False, True] ] "
   ]
  },
  {
   "cell_type": "code",
   "execution_count": 32,
   "metadata": {
    "collapsed": false
   },
   "outputs": [
    {
     "data": {
      "text/html": [
       "<div>\n",
       "<table border=\"1\" class=\"dataframe\">\n",
       "  <thead>\n",
       "    <tr style=\"text-align: right;\">\n",
       "      <th></th>\n",
       "      <th>0</th>\n",
       "    </tr>\n",
       "  </thead>\n",
       "  <tbody>\n",
       "    <tr>\n",
       "      <th>0</th>\n",
       "      <td>10</td>\n",
       "    </tr>\n",
       "    <tr>\n",
       "      <th>3</th>\n",
       "      <td>40</td>\n",
       "    </tr>\n",
       "  </tbody>\n",
       "</table>\n",
       "</div>"
      ],
      "text/plain": [
       "    0\n",
       "0  10\n",
       "3  40"
      ]
     },
     "execution_count": 32,
     "metadata": {},
     "output_type": "execute_result"
    }
   ],
   "source": [
    "df2 = pd.DataFrame([10,20,30,40])\n",
    "df2[[True, False, False, True]]"
   ]
  },
  {
   "cell_type": "code",
   "execution_count": 42,
   "metadata": {
    "collapsed": false
   },
   "outputs": [
    {
     "data": {
      "image/png": "[encoded data removed]",
      "text/plain": [
       "<matplotlib.figure.Figure at 0x7fde611c2750>"
      ]
     },
     "metadata": {},
     "output_type": "display_data"
    }
   ],
   "source": [
    "## now, the actual plot \n",
    "colors = [\"blue\", \"brown\", \"green\", \"orange\"]\n",
    "for color,season in zip(colors, [\"winter\",\"autumn\",\"spring\",\"summer\"]):\n",
    "    seasonal_df = df[df[\"season\"] == season]\n",
    "    counts_by_hour_of_day = seasonal_df[\"hour_of_day\"].value_counts().sort_index()\n",
    "    pcts_by_hour_of_day = counts_by_hour_of_day * 100.0/ counts_by_hour_of_day.sum()\n",
    "    \n",
    "    plt.plot(pcts_by_hour_of_day.index, pcts_by_hour_of_day.values, label=season, color=color)\n",
    "\n",
    "plt.legend(loc='upper left')\n",
    "plt.show()\n",
    "    \n",
    "    "
   ]
  },
  {
   "cell_type": "code",
   "execution_count": 41,
   "metadata": {
    "collapsed": false
   },
   "outputs": [
    {
     "data": {
      "text/plain": [
       "0      5.141388\n",
       "1      3.213368\n",
       "2      3.213368\n",
       "3      1.928021\n",
       "4      2.442159\n",
       "5      1.799486\n",
       "6      1.028278\n",
       "7      1.028278\n",
       "8      0.899743\n",
       "9      1.799486\n",
       "10     1.542416\n",
       "11     1.799486\n",
       "12     1.028278\n",
       "13     1.413882\n",
       "14     0.514139\n",
       "15     1.413882\n",
       "16     1.028278\n",
       "17     1.413882\n",
       "18     1.670951\n",
       "19     3.856041\n",
       "20    11.439589\n",
       "21    20.179949\n",
       "22    17.223650\n",
       "23    12.982005\n",
       "Name: hour_of_day, dtype: float64"
      ]
     },
     "execution_count": 41,
     "metadata": {},
     "output_type": "execute_result"
    }
   ],
   "source": []
  },
  {
   "cell_type": "code",
   "execution_count": 43,
   "metadata": {
    "collapsed": false
   },
   "outputs": [
    {
     "ename": "ImportError",
     "evalue": "No module named basemap",
     "output_type": "error",
     "traceback": [
      "\u001b[0;31m---------------------------------------------------------------------------\u001b[0m",
      "\u001b[0;31mImportError\u001b[0m                               Traceback (most recent call last)",
      "\u001b[0;32m<ipython-input-43-9a17553c7d33>\u001b[0m in \u001b[0;36m<module>\u001b[0;34m()\u001b[0m\n\u001b[0;32m----> 1\u001b[0;31m \u001b[0;32mfrom\u001b[0m \u001b[0mmpl_toolkits\u001b[0m\u001b[0;34m.\u001b[0m\u001b[0mbasemap\u001b[0m \u001b[0;32mimport\u001b[0m \u001b[0mBasemap\u001b[0m\u001b[0;34m\u001b[0m\u001b[0m\n\u001b[0m\u001b[1;32m      2\u001b[0m \u001b[0mmap\u001b[0m \u001b[0;34m=\u001b[0m \u001b[0mBasemap\u001b[0m\u001b[0;34m(\u001b[0m\u001b[0mprojection\u001b[0m\u001b[0;34m=\u001b[0m\u001b[0;34m'mill'\u001b[0m\u001b[0;34m,\u001b[0m\u001b[0mlon_0\u001b[0m\u001b[0;34m=\u001b[0m\u001b[0;36m0\u001b[0m\u001b[0;34m)\u001b[0m\u001b[0;34m\u001b[0m\u001b[0m\n\u001b[1;32m      3\u001b[0m \u001b[0;34m\u001b[0m\u001b[0m\n\u001b[1;32m      4\u001b[0m \u001b[0mmap\u001b[0m\u001b[0;34m.\u001b[0m\u001b[0mdrawcoastlines\u001b[0m\u001b[0;34m(\u001b[0m\u001b[0;34m)\u001b[0m\u001b[0;34m\u001b[0m\u001b[0m\n\u001b[1;32m      5\u001b[0m \u001b[0mmap\u001b[0m\u001b[0;34m.\u001b[0m\u001b[0mdrawcountries\u001b[0m\u001b[0;34m(\u001b[0m\u001b[0;34m)\u001b[0m\u001b[0;34m\u001b[0m\u001b[0m\n",
      "\u001b[0;31mImportError\u001b[0m: No module named basemap"
     ]
    }
   ],
   "source": [
    "from mpl_toolkits.basemap import Basemap\n",
    "map = Basemap(projection='mill',lon_0=0)\n",
    "\n",
    "map.drawcoastlines()\n",
    "map.drawcountries()\n",
    "map.fillcontinents(color = 'coral')\n",
    "map.drawmapboundary()\n",
    "plt.show()"
   ]
  },
  {
   "cell_type": "code",
   "execution_count": null,
   "metadata": {
    "collapsed": true
   },
   "outputs": [],
   "source": []
  }
 ],
 "metadata": {
  "kernelspec": {
   "display_name": "Python 2",
   "language": "python",
   "name": "python2"
  },
  "language_info": {
   "codemirror_mode": {
    "name": "ipython",
    "version": 2
   },
   "file_extension": ".py",
   "mimetype": "text/x-python",
   "name": "python",
   "nbconvert_exporter": "python",
   "pygments_lexer": "ipython2",
   "version": "2.7.6"
  }
 },
 "nbformat": 4,
 "nbformat_minor": 1
}
