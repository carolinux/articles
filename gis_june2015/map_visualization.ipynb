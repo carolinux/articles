{
 "metadata": {
  "name": "",
  "signature": "sha256:bdebbfa39c381b581cd3a1443278a10e0cdc9f8e4efced39e0eba889cd991c67"
 },
 "nbformat": 3,
 "nbformat_minor": 0,
 "worksheets": [
  {
   "cells": [
    {
     "cell_type": "code",
     "collapsed": false,
     "input": [
      "from matplotlib import pyplot as plt\n",
      "\n",
      "import pandas as pd\n",
      "import numpy as np\n",
      "\n",
      "df = pd.read_csv(\"processed.csv\", parse_dates=[\"start_dt\",\"end_dt\"])"
     ],
     "language": "python",
     "metadata": {},
     "outputs": [],
     "prompt_number": 1
    },
    {
     "cell_type": "code",
     "collapsed": false,
     "input": [],
     "language": "python",
     "metadata": {},
     "outputs": [],
     "prompt_number": 1
    },
    {
     "cell_type": "code",
     "collapsed": false,
     "input": [
      "def get_marker(shape):\n",
      "    if shape==\"triangle\":\n",
      "        return \"v\"\n",
      "    if shape==\"circle\" or shape==\"sphere\" or shape==\"disk\" or shape==\"oval\":\n",
      "        return \"o\"\n",
      "\n",
      "    if shape==\"light\":\n",
      "        return \"*\"\n",
      "\n",
      "    if shape==\"rectangle\":\n",
      "        return \"s\"\n",
      "\n",
      "    return \"x\""
     ],
     "language": "python",
     "metadata": {},
     "outputs": [],
     "prompt_number": 2
    },
    {
     "cell_type": "code",
     "collapsed": false,
     "input": [
      "# map plot\n",
      "#%matplotlib inline\n",
      "from mpl_toolkits.basemap import Basemap\n",
      "\n",
      "map = Basemap(projection='mill',lon_0=0)\n",
      "\n",
      "map.drawcoastlines()\n",
      "map.drawcountries()\n",
      "map.fillcontinents(color = 'coral')\n",
      "map.drawmapboundary()\n",
      "\n",
      "lons = df[\"lon\"].values\n",
      "lats = df[\"lat\"].values\n",
      "\n",
      "df[\"marker\"] = df[\"shape\"].apply(get_marker)\n",
      "xs,ys = map(lons, lats)\n",
      "for x,y,m in zip(xs,ys, df[\"marker\"].values):\n",
      "    map.plot(x, y, m, markersize=5) # here it varies the colour every time\n",
      "\n",
      "plt.show()"
     ],
     "language": "python",
     "metadata": {},
     "outputs": [
      {
       "output_type": "stream",
       "stream": "stderr",
       "text": [
        "/home/carolinux/anaconda/lib/python2.7/site-packages/mpl_toolkits/basemap/__init__.py:1767: MatplotlibDeprecationWarning: The get_axis_bgcolor function was deprecated in version 2.0. Use get_facecolor instead.\n",
        "  axisbgc = ax.get_axis_bgcolor()\n",
        "/home/carolinux/anaconda/lib/python2.7/site-packages/mpl_toolkits/basemap/__init__.py:1623: MatplotlibDeprecationWarning: The get_axis_bgcolor function was deprecated in version 2.0. Use get_facecolor instead.\n",
        "  fill_color = ax.get_axis_bgcolor()\n"
       ]
      }
     ]
    },
    {
     "cell_type": "code",
     "collapsed": false,
     "input": [],
     "language": "python",
     "metadata": {},
     "outputs": []
    }
   ],
   "metadata": {}
  }
 ]
}